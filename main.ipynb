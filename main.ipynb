{
 "cells": [
  {
   "cell_type": "markdown",
   "metadata": {},
   "source": [
    "- Se importan las funcionalidades desarrolladas en calculator_stats\n",
    "- A partir de las estadisticas de los jugadores se genera una lista de diccionarios."
   ]
  },
  {
   "cell_type": "code",
   "execution_count": 7,
   "metadata": {},
   "outputs": [
    {
     "data": {
      "text/plain": [
       "[{'name': 'Agustin', 'goals': 0, 'goals_avoided': 0, 'assists': 0},\n",
       " {'name': 'Yanina', 'goals': 10, 'goals_avoided': 2, 'assists': 5},\n",
       " {'name': 'Andrés', 'goals': 4, 'goals_avoided': 0, 'assists': 1},\n",
       " {'name': 'Ariadna', 'goals': 0, 'goals_avoided': 0, 'assists': 0},\n",
       " {'name': 'Bautista', 'goals': 5, 'goals_avoided': 5, 'assists': 5},\n",
       " {'name': 'CAROLINA', 'goals': 14, 'goals_avoided': 2, 'assists': 2},\n",
       " {'name': 'CESAR', 'goals': 0, 'goals_avoided': 0, 'assists': 0},\n",
       " {'name': 'David', 'goals': 0, 'goals_avoided': 0, 'assists': 0},\n",
       " {'name': 'Diego', 'goals': 7, 'goals_avoided': 1, 'assists': 1},\n",
       " {'name': 'Dolores', 'goals': 2, 'goals_avoided': 2, 'assists': 2},\n",
       " {'name': 'DYLAN', 'goals': 1, 'goals_avoided': 0, 'assists': 1},\n",
       " {'name': 'ELIANA', 'goals': 1, 'goals_avoided': 5, 'assists': 5},\n",
       " {'name': 'Emanuel', 'goals': 1, 'goals_avoided': 5, 'assists': 5},\n",
       " {'name': 'Fabián', 'goals': 5, 'goals_avoided': 0, 'assists': 0},\n",
       " {'name': 'Noelia', 'goals': 6, 'goals_avoided': 1, 'assists': 1},\n",
       " {'name': \"Francsica'\", 'goals': 1, 'goals_avoided': 0, 'assists': 0},\n",
       " {'name': 'FEDERICO', 'goals': 1, 'goals_avoided': 2, 'assists': 2},\n",
       " {'name': 'Fernanda', 'goals': 2, 'goals_avoided': 3, 'assists': 3},\n",
       " {'name': 'GONZALO', 'goals': 0, 'goals_avoided': 0, 'assists': 1},\n",
       " {'name': 'Nancy', 'goals': 11, 'goals_avoided': 0, 'assists': 0}]"
      ]
     },
     "execution_count": 7,
     "metadata": {},
     "output_type": "execute_result"
    }
   ],
   "source": [
    "from calculator_stats import calculator\n",
    " \n",
    "names = \"\"\"Agustin, Yanina, Andrés, Ariadna, Bautista, CAROLINA, CESAR, David, Diego, Dolores, DYLAN, ELIANA, Emanuel, Fabián, Noelia, Francsica', FEDERICO, Fernanda, GONZALO, Nancy\"\"\"\n",
    "goals = [0, 10, 4, 0, 5, 14, 0, 0, 7, 2, 1, 1, 1, 5, 6, 1, 1, 2, 0, 11]\n",
    "goals_avoided = [0, 2, 0, 0, 5, 2, 0, 0, 1, 2, 0, 5, 5, 0, 1, 0, 2, 3, 0, 0]\n",
    "assists = [0, 5, 1, 0, 5, 2, 0, 0, 1, 2, 1, 5, 5, 0, 1, 0, 2, 3, 1, 0]\n",
    "\n",
    "players_stats = calculator.generate_statistics (names, goals, goals_avoided, assists)\n",
    "\n",
    "players_stats"
   ]
  },
  {
   "cell_type": "code",
   "execution_count": 8,
   "metadata": {},
   "outputs": [
    {
     "data": {
      "text/plain": [
       "('CAROLINA', 14)"
      ]
     },
     "execution_count": 8,
     "metadata": {},
     "output_type": "execute_result"
    }
   ],
   "source": [
    "scorer = calculator.top_scorer(players_stats)\n",
    "scorer"
   ]
  },
  {
   "cell_type": "code",
   "execution_count": 9,
   "metadata": {},
   "outputs": [
    {
     "data": {
      "text/plain": [
       "'CAROLINA'"
      ]
     },
     "execution_count": 9,
     "metadata": {},
     "output_type": "execute_result"
    }
   ],
   "source": [
    "most_influential = calculator.most_influential_player (players_stats)\n",
    "most_influential"
   ]
  }
 ],
 "metadata": {
  "kernelspec": {
   "display_name": "Python 3",
   "language": "python",
   "name": "python3"
  },
  "language_info": {
   "codemirror_mode": {
    "name": "ipython",
    "version": 3
   },
   "file_extension": ".py",
   "mimetype": "text/x-python",
   "name": "python",
   "nbconvert_exporter": "python",
   "pygments_lexer": "ipython3",
   "version": "3.11.7"
  }
 },
 "nbformat": 4,
 "nbformat_minor": 2
}
